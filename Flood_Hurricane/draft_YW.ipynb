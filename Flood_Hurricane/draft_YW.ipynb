{
 "cells": [
  {
   "cell_type": "code",
   "execution_count": 1,
   "metadata": {},
   "outputs": [],
   "source": [
    "import pandas as pd\n",
    "import numpy as np"
   ]
  },
  {
   "cell_type": "markdown",
   "metadata": {},
   "source": [
    "### Columns which I think are not useful or hard to utilize: \n",
    "\n",
    "- year: Storm year\n",
    "- county: Impacted county name\n",
    "- abrState: State postal abreviation\n",
    "- name: Storm name\n",
    "- numInMonth: Storm sequence in storm's month 1 (all 1's)\n",
    "- numInSeason: Storm sequence in storm's season (all 1's)\n",
    "- recoverCount: Storm sequence in previous storm's recovery period (all 1's)\n",
    "- takeupTotal: County take up rate in month 0\n",
    "\n",
    "### One-hot encoding variables: \n",
    "\n",
    "- month: Storm month\n",
    "- CAT: Storm category over county"
   ]
  },
  {
   "cell_type": "code",
   "execution_count": 39,
   "metadata": {},
   "outputs": [],
   "source": [
    "raw = pd.read_csv('sampleStruc.csv')\n",
    "\n",
    "# Drop columns mentioned above\n",
    "raw.drop(['year','county','abrState','name','numInMonth', 'numInSeason','recoverCount','takeupTotal'], axis=1, inplace=True)\n",
    "\n",
    "# One-hot encoding\n",
    "dummy_month = pd.get_dummies(raw.month)\n",
    "dummy_CAT = pd.get_dummies(raw.CAT)\n",
    "data = pd.concat([raw, dummy_month, dummy_CAT], axis=1, sort=False)\n",
    "data.drop(['month','CAT'], axis=1, inplace=True)"
   ]
  },
  {
   "cell_type": "code",
   "execution_count": 40,
   "metadata": {},
   "outputs": [
    {
     "data": {
      "text/plain": [
       "Index([           'recovery',            'prevProd',          'Production',\n",
       "                      'vmax',                'mslp',                'time',\n",
       "               'ratePoverty',    'houseMedianValue',       'houseOccupied',\n",
       "                'houseTotal', 'sumBuildingCoverage',         'policyCount',\n",
       "                           5,                     6,                     7,\n",
       "                           8,                     9,                    10,\n",
       "                        'EX',                  'H1',                  'H2',\n",
       "                        'H3',                  'H4',                  'H5',\n",
       "                        'LO',                  'SS',                  'TD',\n",
       "                        'TS'],\n",
       "      dtype='object')"
      ]
     },
     "execution_count": 40,
     "metadata": {},
     "output_type": "execute_result"
    }
   ],
   "source": [
    "data.columns"
   ]
  },
  {
   "cell_type": "markdown",
   "metadata": {},
   "source": [
    "### Models \n",
    "\n",
    "2-layer model framework: <br>\n",
    "  First layer: classification for whether obs is an outlier (set threshold = 12, minority class ratio = 10%) <br>\n",
    "  Second layer: regression"
   ]
  },
  {
   "cell_type": "code",
   "execution_count": 41,
   "metadata": {},
   "outputs": [],
   "source": [
    "#Train valid test split\n",
    "from sklearn.model_selection import train_test_split\n",
    "\n",
    "def outlier_label(df, i):\n",
    "    if df.iloc[i].recovery >= 12:\n",
    "        return 1\n",
    "    else:\n",
    "        return 0\n",
    "\n",
    "data['outlier'] = [outlier_label(data, i) for i in range(len(data))]"
   ]
  },
  {
   "cell_type": "code",
   "execution_count": 53,
   "metadata": {},
   "outputs": [],
   "source": [
    "X, y = data.drop(['recovery'], axis=1), data[['recovery', 'outlier']]\n",
    "X_train, X_test, y_train, y_test = train_test_split(X, y, test_size=0.2, random_state=42)"
   ]
  },
  {
   "cell_type": "markdown",
   "metadata": {},
   "source": [
    "### 1st layer: classification random forest\n",
    "\n",
    "Output model name: **layer1_rf**"
   ]
  },
  {
   "cell_type": "code",
   "execution_count": 54,
   "metadata": {},
   "outputs": [
    {
     "name": "stdout",
     "output_type": "stream",
     "text": [
      "              precision    recall  f1-score   support\n",
      "\n",
      "           0       0.90      0.99      0.94        74\n",
      "           1       0.67      0.20      0.31        10\n",
      "\n",
      "    accuracy                           0.89        84\n",
      "   macro avg       0.78      0.59      0.62        84\n",
      "weighted avg       0.87      0.89      0.87        84\n",
      "\n",
      "F1 score: 0.30769230769230765\n",
      "AUC: 0.7878378378378378\n",
      "Accuracy: 0.8928571428571429\n"
     ]
    }
   ],
   "source": [
    "from sklearn.ensemble import RandomForestClassifier\n",
    "from sklearn.model_selection import GridSearchCV\n",
    "from sklearn.metrics import f1_score, precision_score, recall_score, accuracy_score, roc_curve, auc\n",
    "from sklearn.metrics import classification_report\n",
    "\n",
    "X_train_1 = X_train.drop(['outlier'], axis=1)\n",
    "y_train_1 = X_train['outlier']\n",
    "X_test_1 = X_test.drop(['outlier'], axis=1)\n",
    "y_test_1 = X_test['outlier']\n",
    "\n",
    "parameters = {'n_estimators':[50,100], 'max_depth':[None, 5, 10]}\n",
    "layer1_rf = GridSearchCV(RandomForestClassifier(random_state=1, oob_score=True, class_weight='balanced_subsample'), parameters, scoring='f1')\n",
    "layer1_rf.fit(X_train_1, y_train_1)\n",
    "\n",
    "y_pred_rf = layer1_rf.predict(X_test_1)\n",
    "y_pred_proba_rf = layer1_rf.predict_proba(X_test_1)[::,1]\n",
    "fpr_rf, tpr_rf, thresholds_rf = roc_curve(y_test_1, y_pred_proba_rf)\n",
    "auc_rf = auc(fpr_rf, tpr_rf)\n",
    "\n",
    "print(classification_report(y_test_1, y_pred_rf))\n",
    "print('F1 score:', f1_score(y_test_1,y_pred_rf))\n",
    "print('AUC:', auc_rf)\n",
    "print('Accuracy:', accuracy_score(y_test_1,y_pred_rf))"
   ]
  },
  {
   "cell_type": "markdown",
   "metadata": {},
   "source": [
    "### Second layer (a): non-outliers\n",
    "\n",
    "Decision Tree Regression, Random Forest Regression, Gradient Boosting Regression <br>\n",
    "All conducted on 5 folds cross-validation"
   ]
  },
  {
   "cell_type": "code",
   "execution_count": 61,
   "metadata": {},
   "outputs": [
    {
     "name": "stderr",
     "output_type": "stream",
     "text": [
      "/Users/yuweiwang/opt/anaconda3/lib/python3.7/site-packages/pandas/core/frame.py:3997: SettingWithCopyWarning: \n",
      "A value is trying to be set on a copy of a slice from a DataFrame\n",
      "\n",
      "See the caveats in the documentation: https://pandas.pydata.org/pandas-docs/stable/user_guide/indexing.html#returning-a-view-versus-a-copy\n",
      "  errors=errors,\n"
     ]
    },
    {
     "name": "stdout",
     "output_type": "stream",
     "text": [
      "Decision Tree R2: -0.2478770501790999\n",
      "Random Forest R2: 0.08899012183454477\n",
      "Gradient Boosting R2: -0.08162386340013952\n"
     ]
    }
   ],
   "source": [
    "from sklearn.model_selection import cross_val_score\n",
    "from sklearn.tree import DecisionTreeRegressor\n",
    "from sklearn.ensemble import RandomForestRegressor\n",
    "from sklearn.ensemble import GradientBoostingRegressor\n",
    "\n",
    "X_train_2a = X_train[X_train['outlier']==0]\n",
    "y_train_2a = y_train[X_train['outlier']==0]['recovery']\n",
    "X_train_2a.drop(['outlier'], axis=1, inplace=True)\n",
    "\n",
    "# DT\n",
    "layer2a_dt = DecisionTreeRegressor(max_depth=5, random_state=0)\n",
    "print('Decision Tree R2:', cross_val_score(layer2a_dt, X_train_2a, y_train_2a, scoring='r2').mean())\n",
    "\n",
    "# RF\n",
    "layer2a_rf = RandomForestRegressor(max_depth=5, random_state=0)\n",
    "print('Random Forest R2:', cross_val_score(layer2a_rf, X_train_2a, y_train_2a, scoring='r2').mean())\n",
    "\n",
    "# GB\n",
    "layer2a_gb = GradientBoostingRegressor(random_state=0)\n",
    "print('Gradient Boosting R2:', cross_val_score(layer2a_gb, X_train_2a, y_train_2a, scoring='r2').mean())"
   ]
  },
  {
   "cell_type": "markdown",
   "metadata": {},
   "source": [
    "### Second layer (b): outliers"
   ]
  },
  {
   "cell_type": "code",
   "execution_count": 62,
   "metadata": {},
   "outputs": [
    {
     "name": "stderr",
     "output_type": "stream",
     "text": [
      "/Users/yuweiwang/opt/anaconda3/lib/python3.7/site-packages/pandas/core/frame.py:3997: SettingWithCopyWarning: \n",
      "A value is trying to be set on a copy of a slice from a DataFrame\n",
      "\n",
      "See the caveats in the documentation: https://pandas.pydata.org/pandas-docs/stable/user_guide/indexing.html#returning-a-view-versus-a-copy\n",
      "  errors=errors,\n"
     ]
    },
    {
     "name": "stdout",
     "output_type": "stream",
     "text": [
      "Decision Tree R2: -3.0664889703850564\n",
      "Random Forest R2: -0.6931668173336873\n",
      "Gradient Boosting R2: -1.2580561468099267\n"
     ]
    }
   ],
   "source": [
    "X_train_2b = X_train[X_train['outlier']==1]\n",
    "y_train_2b = y_train[X_train['outlier']==1]['recovery']\n",
    "X_train_2b.drop(['outlier'], axis=1, inplace=True)\n",
    "\n",
    "# DT\n",
    "layer2b_dt = DecisionTreeRegressor(max_depth=5, random_state=0)\n",
    "print('Decision Tree R2:', cross_val_score(layer2b_dt, X_train_2b, y_train_2b, scoring='r2').mean())\n",
    "\n",
    "# RF\n",
    "layer2b_rf = RandomForestRegressor(max_depth=5, random_state=0)\n",
    "print('Random Forest R2:', cross_val_score(layer2b_rf, X_train_2b, y_train_2b, scoring='r2').mean())\n",
    "\n",
    "# GB\n",
    "layer2b_gb = GradientBoostingRegressor(random_state=0)\n",
    "print('Gradient Boosting R2:', cross_val_score(layer2b_gb, X_train_2b, y_train_2b, scoring='r2').mean())"
   ]
  },
  {
   "cell_type": "markdown",
   "metadata": {},
   "source": [
    "### Test Algorithm"
   ]
  },
  {
   "cell_type": "code",
   "execution_count": 67,
   "metadata": {},
   "outputs": [
    {
     "name": "stderr",
     "output_type": "stream",
     "text": [
      "/Users/yuweiwang/opt/anaconda3/lib/python3.7/site-packages/pandas/core/frame.py:3997: SettingWithCopyWarning: \n",
      "A value is trying to be set on a copy of a slice from a DataFrame\n",
      "\n",
      "See the caveats in the documentation: https://pandas.pydata.org/pandas-docs/stable/user_guide/indexing.html#returning-a-view-versus-a-copy\n",
      "  errors=errors,\n"
     ]
    }
   ],
   "source": [
    "X_test.drop(['outlier'], axis=1, inplace=True)\n",
    "y_test.drop(['outlier'], axis=1, inplace=True)"
   ]
  },
  {
   "cell_type": "code",
   "execution_count": 80,
   "metadata": {},
   "outputs": [],
   "source": [
    "def prediction(X_test, outlier_ind_lst):\n",
    "    y_pred = []\n",
    "    \n",
    "    layer2a_rf.fit(X_train_2a, y_train_2a)\n",
    "    y_pred_a = layer2a_rf.predict(X_test)\n",
    "    \n",
    "    layer2b_rf.fit(X_train_2b, y_train_2b)\n",
    "    y_pred_b = layer2b_rf.predict(X_test)\n",
    "    \n",
    "    for i in range(len(X_test)):\n",
    "        if outlier_ind_lst[i] == 0:\n",
    "            y_pred.append(y_pred_a[i])\n",
    "        elif outlier_ind_lst[i] == 1:\n",
    "            y_pred.append(y_pred_b[i])\n",
    "    return y_pred"
   ]
  },
  {
   "cell_type": "code",
   "execution_count": 81,
   "metadata": {},
   "outputs": [
    {
     "name": "stdout",
     "output_type": "stream",
     "text": [
      "Test R2 score: -0.16831842684318699\n",
      "Test MSE: 131.3000490530202\n"
     ]
    }
   ],
   "source": [
    "from sklearn.metrics import mean_squared_error, r2_score\n",
    "\n",
    "outlier_pred = layer1_rf.predict(X_test)\n",
    "y_pred = prediction(X_test, outlier_pred)\n",
    "\n",
    "print('Test R2 score:', r2_score(y_test,y_pred))\n",
    "print('Test MSE:', mean_squared_error(y_test, y_pred))"
   ]
  },
  {
   "cell_type": "markdown",
   "metadata": {},
   "source": [
    "#### Comparison with single layer regression"
   ]
  },
  {
   "cell_type": "code",
   "execution_count": 93,
   "metadata": {},
   "outputs": [
    {
     "name": "stdout",
     "output_type": "stream",
     "text": [
      "Single Layer R2 score: -0.25234114674084673\n",
      "Single Layer MSE: 140.74284049639408\n"
     ]
    },
    {
     "name": "stderr",
     "output_type": "stream",
     "text": [
      "/Users/yuweiwang/opt/anaconda3/lib/python3.7/site-packages/ipykernel_launcher.py:5: DataConversionWarning: A column-vector y was passed when a 1d array was expected. Please change the shape of y to (n_samples,), for example using ravel().\n",
      "  \"\"\"\n"
     ]
    }
   ],
   "source": [
    "X_train_single = X_train.drop(['outlier'], axis=1)\n",
    "y_train_single = y_train.drop(['outlier'], axis=1)\n",
    "\n",
    "single_rf = RandomForestRegressor(random_state=1, max_depth=5)\n",
    "single_rf.fit(X_train_single, y_train_single)\n",
    "y_pred_single = single_rf.predict(X_test)\n",
    "\n",
    "print('Single Layer R2 score:', r2_score(y_test,y_pred_single))\n",
    "print('Single Layer MSE:', mean_squared_error(y_test, y_pred_single))"
   ]
  },
  {
   "cell_type": "code",
   "execution_count": null,
   "metadata": {},
   "outputs": [],
   "source": []
  }
 ],
 "metadata": {
  "kernelspec": {
   "display_name": "Python 3",
   "language": "python",
   "name": "python3"
  },
  "language_info": {
   "codemirror_mode": {
    "name": "ipython",
    "version": 3
   },
   "file_extension": ".py",
   "mimetype": "text/x-python",
   "name": "python",
   "nbconvert_exporter": "python",
   "pygments_lexer": "ipython3",
   "version": "3.7.6"
  }
 },
 "nbformat": 4,
 "nbformat_minor": 4
}
