{
 "cells": [
  {
   "cell_type": "code",
   "execution_count": 1,
   "metadata": {},
   "outputs": [],
   "source": [
    "import pandas as pd"
   ]
  },
  {
   "cell_type": "markdown",
   "metadata": {},
   "source": [
    "## 1. Initial Processing"
   ]
  },
  {
   "cell_type": "code",
   "execution_count": 70,
   "metadata": {},
   "outputs": [
    {
     "data": {
      "text/plain": [
       "Index(['Unnamed: 0', 'Unnamed: 0.1', 'trans_date_trans_time', 'cc_num',\n",
       "       'merchant', 'category', 'amt', 'first', 'last', 'gender', 'street',\n",
       "       'city', 'state', 'zip', 'lat', 'long', 'city_pop', 'job', 'dob',\n",
       "       'trans_num', 'unix_time', 'merch_lat', 'merch_long', 'is_fraud',\n",
       "       'beyond_1std', 'beyond_2std', 'age', 'distance', 'trans_latenight',\n",
       "       'trans_afternoon', 'trans_evening', 'trans_morning', 'trans_last24hr',\n",
       "       'trans_last1hr'],\n",
       "      dtype='object')"
      ]
     },
     "execution_count": 70,
     "metadata": {},
     "output_type": "execute_result"
    }
   ],
   "source": [
    "data = pd.read_csv('sample_done_new.csv')\n",
    "data.columns"
   ]
  },
  {
   "cell_type": "code",
   "execution_count": 71,
   "metadata": {},
   "outputs": [
    {
     "data": {
      "text/plain": [
       "Index(['amt', 'gender', 'city_pop', 'is_fraud', 'beyond_1std', 'beyond_2std',\n",
       "       'age', 'distance', 'trans_latenight', 'trans_afternoon',\n",
       "       'trans_evening', 'trans_morning', 'trans_last24hr', 'trans_last1hr'],\n",
       "      dtype='object')"
      ]
     },
     "execution_count": 71,
     "metadata": {},
     "output_type": "execute_result"
    }
   ],
   "source": [
    "drop_columns = ['Unnamed: 0', 'Unnamed: 0.1','trans_date_trans_time', 'cc_num', 'merchant', \n",
    "                'category','first', 'last', 'street', 'city', 'state', 'zip',\n",
    "                'lat', 'long', 'job', 'dob', 'trans_num', 'unix_time',\n",
    "                'merch_lat', 'merch_long']\n",
    "data.drop(drop_columns, axis=1, inplace=True)\n",
    "\n",
    "#Remaining columns\n",
    "data.columns"
   ]
  },
  {
   "cell_type": "code",
   "execution_count": 72,
   "metadata": {},
   "outputs": [
    {
     "data": {
      "text/html": [
       "<div>\n",
       "<style scoped>\n",
       "    .dataframe tbody tr th:only-of-type {\n",
       "        vertical-align: middle;\n",
       "    }\n",
       "\n",
       "    .dataframe tbody tr th {\n",
       "        vertical-align: top;\n",
       "    }\n",
       "\n",
       "    .dataframe thead th {\n",
       "        text-align: right;\n",
       "    }\n",
       "</style>\n",
       "<table border=\"1\" class=\"dataframe\">\n",
       "  <thead>\n",
       "    <tr style=\"text-align: right;\">\n",
       "      <th></th>\n",
       "      <th>amt</th>\n",
       "      <th>gender</th>\n",
       "      <th>city_pop</th>\n",
       "      <th>is_fraud</th>\n",
       "      <th>beyond_1std</th>\n",
       "      <th>beyond_2std</th>\n",
       "      <th>age</th>\n",
       "      <th>distance</th>\n",
       "      <th>trans_latenight</th>\n",
       "      <th>trans_afternoon</th>\n",
       "      <th>trans_evening</th>\n",
       "      <th>trans_morning</th>\n",
       "      <th>trans_last24hr</th>\n",
       "      <th>trans_last1hr</th>\n",
       "    </tr>\n",
       "  </thead>\n",
       "  <tbody>\n",
       "    <tr>\n",
       "      <th>0</th>\n",
       "      <td>4.97</td>\n",
       "      <td>F</td>\n",
       "      <td>3495</td>\n",
       "      <td>0</td>\n",
       "      <td>False</td>\n",
       "      <td>False</td>\n",
       "      <td>31</td>\n",
       "      <td>593.360667</td>\n",
       "      <td>1</td>\n",
       "      <td>0</td>\n",
       "      <td>0</td>\n",
       "      <td>0</td>\n",
       "      <td>0</td>\n",
       "      <td>0</td>\n",
       "    </tr>\n",
       "    <tr>\n",
       "      <th>1</th>\n",
       "      <td>107.23</td>\n",
       "      <td>F</td>\n",
       "      <td>149</td>\n",
       "      <td>0</td>\n",
       "      <td>False</td>\n",
       "      <td>False</td>\n",
       "      <td>41</td>\n",
       "      <td>1729.247653</td>\n",
       "      <td>1</td>\n",
       "      <td>0</td>\n",
       "      <td>0</td>\n",
       "      <td>0</td>\n",
       "      <td>0</td>\n",
       "      <td>0</td>\n",
       "    </tr>\n",
       "    <tr>\n",
       "      <th>2</th>\n",
       "      <td>220.11</td>\n",
       "      <td>M</td>\n",
       "      <td>4154</td>\n",
       "      <td>0</td>\n",
       "      <td>True</td>\n",
       "      <td>False</td>\n",
       "      <td>57</td>\n",
       "      <td>6174.322485</td>\n",
       "      <td>1</td>\n",
       "      <td>0</td>\n",
       "      <td>0</td>\n",
       "      <td>0</td>\n",
       "      <td>0</td>\n",
       "      <td>0</td>\n",
       "    </tr>\n",
       "    <tr>\n",
       "      <th>3</th>\n",
       "      <td>45.00</td>\n",
       "      <td>M</td>\n",
       "      <td>1939</td>\n",
       "      <td>0</td>\n",
       "      <td>False</td>\n",
       "      <td>False</td>\n",
       "      <td>52</td>\n",
       "      <td>5645.702075</td>\n",
       "      <td>1</td>\n",
       "      <td>0</td>\n",
       "      <td>0</td>\n",
       "      <td>0</td>\n",
       "      <td>0</td>\n",
       "      <td>0</td>\n",
       "    </tr>\n",
       "    <tr>\n",
       "      <th>4</th>\n",
       "      <td>41.96</td>\n",
       "      <td>M</td>\n",
       "      <td>99</td>\n",
       "      <td>0</td>\n",
       "      <td>False</td>\n",
       "      <td>False</td>\n",
       "      <td>33</td>\n",
       "      <td>3760.455791</td>\n",
       "      <td>1</td>\n",
       "      <td>0</td>\n",
       "      <td>0</td>\n",
       "      <td>0</td>\n",
       "      <td>0</td>\n",
       "      <td>0</td>\n",
       "    </tr>\n",
       "  </tbody>\n",
       "</table>\n",
       "</div>"
      ],
      "text/plain": [
       "      amt gender  city_pop  is_fraud  beyond_1std  beyond_2std  age  \\\n",
       "0    4.97      F      3495         0        False        False   31   \n",
       "1  107.23      F       149         0        False        False   41   \n",
       "2  220.11      M      4154         0         True        False   57   \n",
       "3   45.00      M      1939         0        False        False   52   \n",
       "4   41.96      M        99         0        False        False   33   \n",
       "\n",
       "      distance  trans_latenight  trans_afternoon  trans_evening  \\\n",
       "0   593.360667                1                0              0   \n",
       "1  1729.247653                1                0              0   \n",
       "2  6174.322485                1                0              0   \n",
       "3  5645.702075                1                0              0   \n",
       "4  3760.455791                1                0              0   \n",
       "\n",
       "   trans_morning  trans_last24hr  trans_last1hr  \n",
       "0              0               0              0  \n",
       "1              0               0              0  \n",
       "2              0               0              0  \n",
       "3              0               0              0  \n",
       "4              0               0              0  "
      ]
     },
     "execution_count": 72,
     "metadata": {},
     "output_type": "execute_result"
    }
   ],
   "source": [
    "data.head()"
   ]
  },
  {
   "cell_type": "code",
   "execution_count": 73,
   "metadata": {},
   "outputs": [],
   "source": [
    "data['gender'] = data['gender'].map({'M': 0,'F': 1})\n",
    "data['beyond_1std'] = data['beyond_1std'].map({False: 0, True: 1})\n",
    "data['beyond_2std'] = data['beyond_2std'].map({False: 0, True: 1})"
   ]
  },
  {
   "cell_type": "code",
   "execution_count": 74,
   "metadata": {},
   "outputs": [
    {
     "data": {
      "text/html": [
       "<div>\n",
       "<style scoped>\n",
       "    .dataframe tbody tr th:only-of-type {\n",
       "        vertical-align: middle;\n",
       "    }\n",
       "\n",
       "    .dataframe tbody tr th {\n",
       "        vertical-align: top;\n",
       "    }\n",
       "\n",
       "    .dataframe thead th {\n",
       "        text-align: right;\n",
       "    }\n",
       "</style>\n",
       "<table border=\"1\" class=\"dataframe\">\n",
       "  <thead>\n",
       "    <tr style=\"text-align: right;\">\n",
       "      <th></th>\n",
       "      <th>amt</th>\n",
       "      <th>gender</th>\n",
       "      <th>city_pop</th>\n",
       "      <th>is_fraud</th>\n",
       "      <th>beyond_1std</th>\n",
       "      <th>beyond_2std</th>\n",
       "      <th>age</th>\n",
       "      <th>distance</th>\n",
       "      <th>trans_latenight</th>\n",
       "      <th>trans_afternoon</th>\n",
       "      <th>trans_evening</th>\n",
       "      <th>trans_morning</th>\n",
       "      <th>trans_last24hr</th>\n",
       "      <th>trans_last1hr</th>\n",
       "    </tr>\n",
       "  </thead>\n",
       "  <tbody>\n",
       "    <tr>\n",
       "      <th>0</th>\n",
       "      <td>4.97</td>\n",
       "      <td>1</td>\n",
       "      <td>3495</td>\n",
       "      <td>0</td>\n",
       "      <td>0</td>\n",
       "      <td>0</td>\n",
       "      <td>31</td>\n",
       "      <td>593.360667</td>\n",
       "      <td>1</td>\n",
       "      <td>0</td>\n",
       "      <td>0</td>\n",
       "      <td>0</td>\n",
       "      <td>0</td>\n",
       "      <td>0</td>\n",
       "    </tr>\n",
       "    <tr>\n",
       "      <th>1</th>\n",
       "      <td>107.23</td>\n",
       "      <td>1</td>\n",
       "      <td>149</td>\n",
       "      <td>0</td>\n",
       "      <td>0</td>\n",
       "      <td>0</td>\n",
       "      <td>41</td>\n",
       "      <td>1729.247653</td>\n",
       "      <td>1</td>\n",
       "      <td>0</td>\n",
       "      <td>0</td>\n",
       "      <td>0</td>\n",
       "      <td>0</td>\n",
       "      <td>0</td>\n",
       "    </tr>\n",
       "    <tr>\n",
       "      <th>2</th>\n",
       "      <td>220.11</td>\n",
       "      <td>0</td>\n",
       "      <td>4154</td>\n",
       "      <td>0</td>\n",
       "      <td>1</td>\n",
       "      <td>0</td>\n",
       "      <td>57</td>\n",
       "      <td>6174.322485</td>\n",
       "      <td>1</td>\n",
       "      <td>0</td>\n",
       "      <td>0</td>\n",
       "      <td>0</td>\n",
       "      <td>0</td>\n",
       "      <td>0</td>\n",
       "    </tr>\n",
       "    <tr>\n",
       "      <th>3</th>\n",
       "      <td>45.00</td>\n",
       "      <td>0</td>\n",
       "      <td>1939</td>\n",
       "      <td>0</td>\n",
       "      <td>0</td>\n",
       "      <td>0</td>\n",
       "      <td>52</td>\n",
       "      <td>5645.702075</td>\n",
       "      <td>1</td>\n",
       "      <td>0</td>\n",
       "      <td>0</td>\n",
       "      <td>0</td>\n",
       "      <td>0</td>\n",
       "      <td>0</td>\n",
       "    </tr>\n",
       "    <tr>\n",
       "      <th>4</th>\n",
       "      <td>41.96</td>\n",
       "      <td>0</td>\n",
       "      <td>99</td>\n",
       "      <td>0</td>\n",
       "      <td>0</td>\n",
       "      <td>0</td>\n",
       "      <td>33</td>\n",
       "      <td>3760.455791</td>\n",
       "      <td>1</td>\n",
       "      <td>0</td>\n",
       "      <td>0</td>\n",
       "      <td>0</td>\n",
       "      <td>0</td>\n",
       "      <td>0</td>\n",
       "    </tr>\n",
       "  </tbody>\n",
       "</table>\n",
       "</div>"
      ],
      "text/plain": [
       "      amt  gender  city_pop  is_fraud  beyond_1std  beyond_2std  age  \\\n",
       "0    4.97       1      3495         0            0            0   31   \n",
       "1  107.23       1       149         0            0            0   41   \n",
       "2  220.11       0      4154         0            1            0   57   \n",
       "3   45.00       0      1939         0            0            0   52   \n",
       "4   41.96       0        99         0            0            0   33   \n",
       "\n",
       "      distance  trans_latenight  trans_afternoon  trans_evening  \\\n",
       "0   593.360667                1                0              0   \n",
       "1  1729.247653                1                0              0   \n",
       "2  6174.322485                1                0              0   \n",
       "3  5645.702075                1                0              0   \n",
       "4  3760.455791                1                0              0   \n",
       "\n",
       "   trans_morning  trans_last24hr  trans_last1hr  \n",
       "0              0               0              0  \n",
       "1              0               0              0  \n",
       "2              0               0              0  \n",
       "3              0               0              0  \n",
       "4              0               0              0  "
      ]
     },
     "execution_count": 74,
     "metadata": {},
     "output_type": "execute_result"
    }
   ],
   "source": [
    "data.head()"
   ]
  },
  {
   "cell_type": "markdown",
   "metadata": {},
   "source": [
    "## 2. Up-sample minority class to 20%"
   ]
  },
  {
   "cell_type": "code",
   "execution_count": 75,
   "metadata": {},
   "outputs": [
    {
     "data": {
      "text/plain": [
       "0    119380\n",
       "1     29845\n",
       "Name: is_fraud, dtype: int64"
      ]
     },
     "execution_count": 75,
     "metadata": {},
     "output_type": "execute_result"
    }
   ],
   "source": [
    "from sklearn.utils import resample\n",
    "\n",
    "df_majority = data[data.is_fraud==0]\n",
    "df_minority = data[data.is_fraud==1]\n",
    " \n",
    "# Upsample minority class\n",
    "df_minority_upsampled = resample(df_minority, \n",
    "                                 replace=True,     # sample with replacement\n",
    "                                 n_samples=29845,  # to match majority class\n",
    "                                 random_state=123) # reproducible results\n",
    " \n",
    "# Combine majority class with upsampled minority class\n",
    "df_upsampled = pd.concat([df_majority, df_minority_upsampled])\n",
    "\n",
    "# Display new class counts\n",
    "df_upsampled.is_fraud.value_counts()"
   ]
  },
  {
   "cell_type": "markdown",
   "metadata": {},
   "source": [
    "## 3. Enter Models"
   ]
  },
  {
   "cell_type": "code",
   "execution_count": 78,
   "metadata": {},
   "outputs": [],
   "source": [
    "#Train valid test split\n",
    "from sklearn.model_selection import train_test_split\n",
    "\n",
    "X, y = df_upsampled.drop(['is_fraud'], axis=1), df_upsampled['is_fraud']\n",
    "X_train, X_val, y_train, y_val = train_test_split(X, y, test_size=0.2, random_state=42)"
   ]
  },
  {
   "cell_type": "code",
   "execution_count": 79,
   "metadata": {},
   "outputs": [
    {
     "data": {
      "text/html": [
       "<div>\n",
       "<style scoped>\n",
       "    .dataframe tbody tr th:only-of-type {\n",
       "        vertical-align: middle;\n",
       "    }\n",
       "\n",
       "    .dataframe tbody tr th {\n",
       "        vertical-align: top;\n",
       "    }\n",
       "\n",
       "    .dataframe thead th {\n",
       "        text-align: right;\n",
       "    }\n",
       "</style>\n",
       "<table border=\"1\" class=\"dataframe\">\n",
       "  <thead>\n",
       "    <tr style=\"text-align: right;\">\n",
       "      <th></th>\n",
       "      <th>amt</th>\n",
       "      <th>gender</th>\n",
       "      <th>city_pop</th>\n",
       "      <th>beyond_1std</th>\n",
       "      <th>beyond_2std</th>\n",
       "      <th>age</th>\n",
       "      <th>distance</th>\n",
       "      <th>trans_latenight</th>\n",
       "      <th>trans_afternoon</th>\n",
       "      <th>trans_evening</th>\n",
       "      <th>trans_morning</th>\n",
       "      <th>trans_last24hr</th>\n",
       "      <th>trans_last1hr</th>\n",
       "    </tr>\n",
       "  </thead>\n",
       "  <tbody>\n",
       "    <tr>\n",
       "      <th>53610</th>\n",
       "      <td>11.14</td>\n",
       "      <td>0</td>\n",
       "      <td>5901</td>\n",
       "      <td>0</td>\n",
       "      <td>0</td>\n",
       "      <td>47</td>\n",
       "      <td>5503.917225</td>\n",
       "      <td>0</td>\n",
       "      <td>1</td>\n",
       "      <td>0</td>\n",
       "      <td>0</td>\n",
       "      <td>4</td>\n",
       "      <td>0</td>\n",
       "    </tr>\n",
       "    <tr>\n",
       "      <th>30688</th>\n",
       "      <td>24.03</td>\n",
       "      <td>1</td>\n",
       "      <td>1925</td>\n",
       "      <td>0</td>\n",
       "      <td>0</td>\n",
       "      <td>53</td>\n",
       "      <td>1855.096880</td>\n",
       "      <td>0</td>\n",
       "      <td>1</td>\n",
       "      <td>0</td>\n",
       "      <td>0</td>\n",
       "      <td>7</td>\n",
       "      <td>0</td>\n",
       "    </tr>\n",
       "    <tr>\n",
       "      <th>60472</th>\n",
       "      <td>1.45</td>\n",
       "      <td>1</td>\n",
       "      <td>46</td>\n",
       "      <td>0</td>\n",
       "      <td>0</td>\n",
       "      <td>33</td>\n",
       "      <td>5751.095883</td>\n",
       "      <td>0</td>\n",
       "      <td>0</td>\n",
       "      <td>1</td>\n",
       "      <td>0</td>\n",
       "      <td>8</td>\n",
       "      <td>1</td>\n",
       "    </tr>\n",
       "    <tr>\n",
       "      <th>57196</th>\n",
       "      <td>207.97</td>\n",
       "      <td>1</td>\n",
       "      <td>71485</td>\n",
       "      <td>1</td>\n",
       "      <td>0</td>\n",
       "      <td>45</td>\n",
       "      <td>2315.408114</td>\n",
       "      <td>0</td>\n",
       "      <td>0</td>\n",
       "      <td>0</td>\n",
       "      <td>1</td>\n",
       "      <td>19</td>\n",
       "      <td>0</td>\n",
       "    </tr>\n",
       "    <tr>\n",
       "      <th>14147</th>\n",
       "      <td>59.19</td>\n",
       "      <td>0</td>\n",
       "      <td>4081</td>\n",
       "      <td>0</td>\n",
       "      <td>0</td>\n",
       "      <td>81</td>\n",
       "      <td>4377.240908</td>\n",
       "      <td>0</td>\n",
       "      <td>0</td>\n",
       "      <td>0</td>\n",
       "      <td>1</td>\n",
       "      <td>1</td>\n",
       "      <td>0</td>\n",
       "    </tr>\n",
       "  </tbody>\n",
       "</table>\n",
       "</div>"
      ],
      "text/plain": [
       "          amt  gender  city_pop  beyond_1std  beyond_2std  age     distance  \\\n",
       "53610   11.14       0      5901            0            0   47  5503.917225   \n",
       "30688   24.03       1      1925            0            0   53  1855.096880   \n",
       "60472    1.45       1        46            0            0   33  5751.095883   \n",
       "57196  207.97       1     71485            1            0   45  2315.408114   \n",
       "14147   59.19       0      4081            0            0   81  4377.240908   \n",
       "\n",
       "       trans_latenight  trans_afternoon  trans_evening  trans_morning  \\\n",
       "53610                0                1              0              0   \n",
       "30688                0                1              0              0   \n",
       "60472                0                0              1              0   \n",
       "57196                0                0              0              1   \n",
       "14147                0                0              0              1   \n",
       "\n",
       "       trans_last24hr  trans_last1hr  \n",
       "53610               4              0  \n",
       "30688               7              0  \n",
       "60472               8              1  \n",
       "57196              19              0  \n",
       "14147               1              0  "
      ]
     },
     "execution_count": 79,
     "metadata": {},
     "output_type": "execute_result"
    }
   ],
   "source": [
    "X_train.head()"
   ]
  },
  {
   "cell_type": "markdown",
   "metadata": {},
   "source": [
    "### 3.1 Baseline: Random Guess"
   ]
  },
  {
   "cell_type": "code",
   "execution_count": 80,
   "metadata": {},
   "outputs": [
    {
     "name": "stdout",
     "output_type": "stream",
     "text": [
      "              precision    recall  f1-score   support\n",
      "\n",
      "           0       0.80      0.81      0.81     23922\n",
      "           1       0.21      0.21      0.21      5923\n",
      "\n",
      "    accuracy                           0.69     29845\n",
      "   macro avg       0.51      0.51      0.51     29845\n",
      "weighted avg       0.69      0.69      0.69     29845\n",
      "\n",
      "F1 score: 0.20849944863856137\n",
      "Precision: 0.20951244459597682\n",
      "Recall: 0.20749620124936688\n",
      "AUC: 0.5068289467077869\n",
      "Accuracy: 0.6873513151281622\n"
     ]
    }
   ],
   "source": [
    "from sklearn.metrics import f1_score, precision_score, recall_score, accuracy_score, roc_curve, auc\n",
    "from sklearn.metrics import classification_report\n",
    "from sklearn.dummy import DummyClassifier\n",
    "\n",
    "base_random = DummyClassifier(strategy = 'stratified', random_state=1211)\n",
    "base_random.fit(X_train, y_train)\n",
    "y_pred_base_random = base_random.predict(X_val)\n",
    "y_pred_proba_base_random = base_random.predict_proba(X_val)[::,1]\n",
    "fpr_base_random, tpr_base_random, thresholds_base_random = roc_curve(y_val, y_pred_proba_base_random)\n",
    "auc_base_random = auc(fpr_base_random, tpr_base_random)\n",
    "\n",
    "print(classification_report(y_val, y_pred_base_random))\n",
    "print('F1 score:', f1_score(y_val,y_pred_base_random))\n",
    "print('Precision:', precision_score(y_val,y_pred_base_random))\n",
    "print('Recall:', recall_score(y_val,y_pred_base_random))\n",
    "print('AUC:', auc_base_random)\n",
    "print('Accuracy:', accuracy_score(y_val,y_pred_base_random))"
   ]
  },
  {
   "cell_type": "markdown",
   "metadata": {},
   "source": [
    "### 3.2 Decision Tree"
   ]
  },
  {
   "cell_type": "code",
   "execution_count": 81,
   "metadata": {},
   "outputs": [
    {
     "name": "stdout",
     "output_type": "stream",
     "text": [
      "              precision    recall  f1-score   support\n",
      "\n",
      "           0       1.00      1.00      1.00     23922\n",
      "           1       0.99      1.00      0.99      5923\n",
      "\n",
      "    accuracy                           1.00     29845\n",
      "   macro avg       0.99      1.00      1.00     29845\n",
      "weighted avg       1.00      1.00      1.00     29845\n",
      "\n",
      "F1 score: 0.9930421661497192\n",
      "Precision: 0.9861804861804861\n",
      "Recall: 1.0\n",
      "AUC: 0.9982651952177912\n",
      "Accuracy: 0.9972189646506953\n"
     ]
    }
   ],
   "source": [
    "from sklearn.tree import DecisionTreeClassifier\n",
    "\n",
    "base_tree = DecisionTreeClassifier(random_state=1211)\n",
    "base_tree.fit(X_train,y_train)\n",
    "y_pred_base_tree = base_tree.predict(X_val)\n",
    "y_pred_proba_base_tree = base_tree.predict_proba(X_val)[::,1]\n",
    "fpr_base_tree, tpr_base_tree, thresholds_base_tree = roc_curve(y_val, y_pred_proba_base_tree)\n",
    "auc_base_tree = auc(fpr_base_tree, tpr_base_tree)\n",
    "\n",
    "print(classification_report(y_val, y_pred_base_tree))\n",
    "print('F1 score:', f1_score(y_val,y_pred_base_tree))\n",
    "print('Precision:', precision_score(y_val,y_pred_base_tree))\n",
    "print('Recall:', recall_score(y_val,y_pred_base_tree))\n",
    "print('AUC:', auc_base_tree)\n",
    "print('Accuracy:', accuracy_score(y_val,y_pred_base_tree))"
   ]
  },
  {
   "cell_type": "markdown",
   "metadata": {},
   "source": [
    "### 3.3 Logistic Regression"
   ]
  },
  {
   "cell_type": "code",
   "execution_count": 82,
   "metadata": {},
   "outputs": [
    {
     "name": "stdout",
     "output_type": "stream",
     "text": [
      "              precision    recall  f1-score   support\n",
      "\n",
      "           0       0.89      0.98      0.93     23922\n",
      "           1       0.88      0.50      0.64      5923\n",
      "\n",
      "    accuracy                           0.89     29845\n",
      "   macro avg       0.88      0.74      0.79     29845\n",
      "weighted avg       0.89      0.89      0.87     29845\n",
      "\n",
      "F1 score: 0.6381054897739505\n",
      "Precision: 0.8803088803088803\n",
      "Recall: 0.5004220834036806\n",
      "AUC: 0.8218387611614612\n",
      "Accuracy: 0.8873513151281621\n"
     ]
    }
   ],
   "source": [
    "from sklearn.linear_model import LogisticRegression\n",
    "\n",
    "base_log = LogisticRegression(random_state=1211)\n",
    "base_log.fit(X_train,y_train)\n",
    "y_pred_base_log = base_log.predict(X_val)\n",
    "y_pred_proba_base_log = base_log.predict_proba(X_val)[::,1]\n",
    "fpr_base_log, tpr_base_log, thresholds_base_log = roc_curve(y_val, y_pred_proba_base_log)\n",
    "auc_base_log = auc(fpr_base_log, tpr_base_log)\n",
    "\n",
    "print(classification_report(y_val, y_pred_base_log))\n",
    "print('F1 score:', f1_score(y_val,y_pred_base_log))\n",
    "print('Precision:', precision_score(y_val,y_pred_base_log))\n",
    "print('Recall:', recall_score(y_val,y_pred_base_log))\n",
    "print('AUC:', auc_base_log)\n",
    "print('Accuracy:', accuracy_score(y_val,y_pred_base_log))"
   ]
  },
  {
   "cell_type": "markdown",
   "metadata": {},
   "source": [
    "### 3.4 Random Forest"
   ]
  },
  {
   "cell_type": "code",
   "execution_count": 83,
   "metadata": {},
   "outputs": [
    {
     "name": "stdout",
     "output_type": "stream",
     "text": [
      "              precision    recall  f1-score   support\n",
      "\n",
      "           0       1.00      1.00      1.00     23922\n",
      "           1       1.00      1.00      1.00      5923\n",
      "\n",
      "    accuracy                           1.00     29845\n",
      "   macro avg       1.00      1.00      1.00     29845\n",
      "weighted avg       1.00      1.00      1.00     29845\n",
      "\n",
      "F1 score: 0.9981462756993597\n",
      "Precision: 0.9962994112699748\n",
      "Recall: 1.0\n",
      "AUC: 1.0\n",
      "Accuracy: 0.9992628581001843\n"
     ]
    }
   ],
   "source": [
    "from sklearn.ensemble import RandomForestClassifier\n",
    "from sklearn.model_selection import GridSearchCV\n",
    "\n",
    "parameters = {'n_estimators':[50,100], 'max_depth':[None, 5, 10]}\n",
    "rf = GridSearchCV(RandomForestClassifier(random_state=1211, oob_score=True, class_weight='balanced_subsample'), parameters, scoring='f1')\n",
    "rf.fit(X_train,y_train)\n",
    "\n",
    "y_pred_rf = rf.predict(X_val)\n",
    "y_pred_proba_rf = rf.predict_proba(X_val)[::,1]\n",
    "fpr_rf, tpr_rf, thresholds_rf = roc_curve(y_val, y_pred_proba_rf)\n",
    "auc_rf = auc(fpr_rf, tpr_rf)\n",
    "\n",
    "print(classification_report(y_val, y_pred_rf))\n",
    "print('F1 score:', f1_score(y_val,y_pred_rf))\n",
    "print('Precision:', precision_score(y_val,y_pred_rf))\n",
    "print('Recall:', recall_score(y_val,y_pred_rf))\n",
    "print('AUC:', auc_rf)\n",
    "print('Accuracy:', accuracy_score(y_val,y_pred_rf))"
   ]
  },
  {
   "cell_type": "markdown",
   "metadata": {},
   "source": [
    "## 4. Feature Importance from Tree-based"
   ]
  },
  {
   "cell_type": "code",
   "execution_count": 86,
   "metadata": {},
   "outputs": [
    {
     "data": {
      "image/png": "[encoded data removed]",
      "text/plain": [
       "<Figure size 720x432 with 1 Axes>"
      ]
     },
     "metadata": {
      "needs_background": "light"
     },
     "output_type": "display_data"
    }
   ],
   "source": [
    "import matplotlib.pyplot as plt\n",
    "\n",
    "base_tree = DecisionTreeClassifier(random_state=1211)\n",
    "base_tree.fit(X,y)\n",
    "\n",
    "plt.figure(figsize=(10,6))\n",
    "feat_importances = pd.Series(base_tree.feature_importances_, index=X.columns)\n",
    "feat_importances.plot(kind='barh')\n",
    "plt.show()"
   ]
  }
 ],
 "metadata": {
  "kernelspec": {
   "display_name": "Python 3",
   "language": "python",
   "name": "python3"
  },
  "language_info": {
   "codemirror_mode": {
    "name": "ipython",
    "version": 3
   },
   "file_extension": ".py",
   "mimetype": "text/x-python",
   "name": "python",
   "nbconvert_exporter": "python",
   "pygments_lexer": "ipython3",
   "version": "3.7.6"
  }
 },
 "nbformat": 4,
 "nbformat_minor": 4
}
