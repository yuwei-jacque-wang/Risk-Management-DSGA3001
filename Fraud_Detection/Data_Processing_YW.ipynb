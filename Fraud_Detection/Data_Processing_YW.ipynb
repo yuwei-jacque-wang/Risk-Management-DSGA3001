{
 "cells": [
  {
   "cell_type": "markdown",
   "metadata": {},
   "source": [
    "## 1. Combine datasets and downsample"
   ]
  },
  {
   "cell_type": "code",
   "execution_count": 95,
   "metadata": {},
   "outputs": [],
   "source": [
    "import pandas as pd\n",
    "from collections import Counter\n",
    "\n",
    "from statistics import mean \n",
    "from statistics import pvariance\n",
    "from statistics import pstdev"
   ]
  },
  {
   "cell_type": "code",
   "execution_count": 96,
   "metadata": {},
   "outputs": [],
   "source": [
    "# Recreate training and test set\n",
    "origTrain = pd.read_csv('fraudTrain.csv')\n",
    "origTrain.drop(origTrain.columns[0], axis=1, inplace=True)\n",
    "origTest = pd.read_csv('fraudTest.csv')\n",
    "origTest.drop(origTest.columns[0], axis=1, inplace=True)\n",
    "\n",
    "combined = pd.concat([origTrain,origTest])"
   ]
  },
  {
   "cell_type": "markdown",
   "metadata": {},
   "source": [
    "Among all observations, we select the full history of only 50 cards as new sample:"
   ]
  },
  {
   "cell_type": "code",
   "execution_count": 97,
   "metadata": {},
   "outputs": [],
   "source": [
    "select_card = list(Counter(combined.cc_num).keys())[:50]\n",
    "sample_df = combined[combined['cc_num'].isin(select_card)]"
   ]
  },
  {
   "cell_type": "markdown",
   "metadata": {},
   "source": [
    "Number of instances in sample set:"
   ]
  },
  {
   "cell_type": "code",
   "execution_count": 98,
   "metadata": {},
   "outputs": [
    {
     "data": {
      "text/plain": [
       "119884"
      ]
     },
     "execution_count": 98,
     "metadata": {},
     "output_type": "execute_result"
    }
   ],
   "source": [
    "len(sample_df)"
   ]
  },
  {
   "cell_type": "markdown",
   "metadata": {},
   "source": [
    "Number of positive cases (fraud) in sample set:"
   ]
  },
  {
   "cell_type": "code",
   "execution_count": 99,
   "metadata": {},
   "outputs": [
    {
     "data": {
      "text/plain": [
       "504"
      ]
     },
     "execution_count": 99,
     "metadata": {},
     "output_type": "execute_result"
    }
   ],
   "source": [
    "len(sample_df[sample_df.is_fraud==1])"
   ]
  },
  {
   "cell_type": "code",
   "execution_count": 100,
   "metadata": {},
   "outputs": [],
   "source": [
    "#sample_df.to_csv('sample.csv')"
   ]
  },
  {
   "cell_type": "markdown",
   "metadata": {},
   "source": [
    "## 2. Feature Engineering"
   ]
  },
  {
   "cell_type": "markdown",
   "metadata": {},
   "source": [
    "### 2.1 Personal purchase history related\n",
    "\n",
    "Two columns are created here: \n",
    "    - beyond_1std (whether the amount is higher than average + std)\n",
    "    - beyond_2std (whether the amount is higher than average + 2std)\n",
    "Average and std are calculated from all transactions made by this card"
   ]
  },
  {
   "cell_type": "code",
   "execution_count": 107,
   "metadata": {},
   "outputs": [],
   "source": [
    "def get_hist(input_cc_num):\n",
    "    hist = list(sample_df[sample_df.cc_num==input_cc_num]['amt'])\n",
    "    avg = mean(hist)\n",
    "    std = pstdev(hist)\n",
    "    one_std = avg + std\n",
    "    two_std = avg + 2*std\n",
    "    \n",
    "    return one_std, two_std\n",
    "\n",
    "dict_one_std = {}\n",
    "dict_two_std = {}\n",
    "for card in select_card:\n",
    "    one, two = get_hist(card)\n",
    "    dict_one_std[card] = one\n",
    "    dict_two_std[card] = two"
   ]
  },
  {
   "cell_type": "code",
   "execution_count": 109,
   "metadata": {},
   "outputs": [
    {
     "name": "stderr",
     "output_type": "stream",
     "text": [
      "/Users/yuweiwang/opt/anaconda3/lib/python3.7/site-packages/ipykernel_launcher.py:9: SettingWithCopyWarning: \n",
      "A value is trying to be set on a copy of a slice from a DataFrame.\n",
      "Try using .loc[row_indexer,col_indexer] = value instead\n",
      "\n",
      "See the caveats in the documentation: https://pandas.pydata.org/pandas-docs/stable/user_guide/indexing.html#returning-a-view-versus-a-copy\n",
      "  if __name__ == '__main__':\n",
      "/Users/yuweiwang/opt/anaconda3/lib/python3.7/site-packages/ipykernel_launcher.py:10: SettingWithCopyWarning: \n",
      "A value is trying to be set on a copy of a slice from a DataFrame.\n",
      "Try using .loc[row_indexer,col_indexer] = value instead\n",
      "\n",
      "See the caveats in the documentation: https://pandas.pydata.org/pandas-docs/stable/user_guide/indexing.html#returning-a-view-versus-a-copy\n",
      "  # Remove the CWD from sys.path while we load stuff.\n"
     ]
    }
   ],
   "source": [
    "one_std, two_std = [], []\n",
    "\n",
    "for i in range(len(sample_df)):\n",
    "    cc_num = sample_df.iloc[i]['cc_num']\n",
    "    amount = sample_df.iloc[i]['amt']\n",
    "    one_std.append(amount >= dict_one_std[cc_num])\n",
    "    two_std.append(amount >= dict_two_std[cc_num])\n",
    "\n",
    "sample_df['beyond_1std'] = one_std\n",
    "sample_df['beyond_2std'] = two_std"
   ]
  },
  {
   "cell_type": "markdown",
   "metadata": {},
   "source": [
    "### 2.2 Age\n",
    "\n",
    "One column is created by DOB column. We use transaction year to subtract the year of person's birth year, to get current age"
   ]
  },
  {
   "cell_type": "code",
   "execution_count": 129,
   "metadata": {},
   "outputs": [],
   "source": [
    "import datetime\n",
    "\n",
    "def get_age(trans_date_trans_time, dob):\n",
    "    trans_year = datetime.datetime.strptime(trans_date_trans_time, '%Y-%m-%d %H:%M:%S').year\n",
    "    birth_year = datetime.datetime.strptime(dob, '%Y-%m-%d').year\n",
    "    age = trans_year - birth_year\n",
    "    return age"
   ]
  },
  {
   "cell_type": "code",
   "execution_count": 130,
   "metadata": {},
   "outputs": [
    {
     "name": "stderr",
     "output_type": "stream",
     "text": [
      "/Users/yuweiwang/opt/anaconda3/lib/python3.7/site-packages/ipykernel_launcher.py:8: SettingWithCopyWarning: \n",
      "A value is trying to be set on a copy of a slice from a DataFrame.\n",
      "Try using .loc[row_indexer,col_indexer] = value instead\n",
      "\n",
      "See the caveats in the documentation: https://pandas.pydata.org/pandas-docs/stable/user_guide/indexing.html#returning-a-view-versus-a-copy\n",
      "  \n"
     ]
    }
   ],
   "source": [
    "age_lst = []\n",
    "\n",
    "for i in range(len(sample_df)):\n",
    "    year1 = sample_df.iloc[i]['trans_date_trans_time']\n",
    "    year2 = sample_df.iloc[i]['dob']\n",
    "    age_lst.append(get_age(year1, year2))\n",
    "    \n",
    "sample_df['age'] = age_lst"
   ]
  },
  {
   "cell_type": "markdown",
   "metadata": {},
   "source": [
    "### 2.3 Distance\n",
    "\n",
    "One column is created by calculating the distance from merchant location and card location"
   ]
  },
  {
   "cell_type": "code",
   "execution_count": 133,
   "metadata": {},
   "outputs": [],
   "source": [
    "from math import sin, cos, sqrt, atan2, radians\n",
    "\n",
    "def calculate_distance(lat1, lon1, lat2, lon2):\n",
    "    # approximate radius of earth in km\n",
    "    R = 6373.0\n",
    "    dlon = lon2 - lon1\n",
    "    dlat = lat2 - lat1\n",
    "    \n",
    "    a = sin(dlat / 2)**2 + cos(lat1) * cos(lat2) * sin(dlon / 2)**2\n",
    "    c = 2 * atan2(sqrt(a), sqrt(1 - a))\n",
    "\n",
    "    distance = R * c\n",
    "    return distance"
   ]
  },
  {
   "cell_type": "code",
   "execution_count": 134,
   "metadata": {},
   "outputs": [
    {
     "name": "stderr",
     "output_type": "stream",
     "text": [
      "/Users/yuweiwang/opt/anaconda3/lib/python3.7/site-packages/ipykernel_launcher.py:12: SettingWithCopyWarning: \n",
      "A value is trying to be set on a copy of a slice from a DataFrame.\n",
      "Try using .loc[row_indexer,col_indexer] = value instead\n",
      "\n",
      "See the caveats in the documentation: https://pandas.pydata.org/pandas-docs/stable/user_guide/indexing.html#returning-a-view-versus-a-copy\n",
      "  if sys.path[0] == '':\n"
     ]
    }
   ],
   "source": [
    "distance_lst = []\n",
    "\n",
    "for i in range(len(sample_df)):\n",
    "    lat1 = sample_df.iloc[i]['lat']\n",
    "    lon1 = sample_df.iloc[i]['long']\n",
    "    lat2 = sample_df.iloc[i]['merch_lat']\n",
    "    lon2 = sample_df.iloc[i]['merch_long']\n",
    "    \n",
    "    dis = calculate_distance(lat1, lon1, lat2, lon2)\n",
    "    distance_lst.append(dis)\n",
    "    \n",
    "sample_df['distance'] = distance_lst"
   ]
  },
  {
   "cell_type": "markdown",
   "metadata": {},
   "source": [
    "### 2.4 Transaction time\n",
    "\n",
    "A rough estimate of transaction time: \n",
    "    - latenight: 12am - 6am\n",
    "    - morning: 6am - 12pm\n",
    "    - afternoon: 12pm - 6pm\n",
    "    - evening: 6pm - 12am\n",
    "    \n",
    "4 new columns are created here"
   ]
  },
  {
   "cell_type": "code",
   "execution_count": 3,
   "metadata": {},
   "outputs": [],
   "source": [
    "def convert_time(trans_date_trans_time):\n",
    "    hour = datetime.datetime.strptime(trans_date_trans_time, '%Y-%m-%d %H:%M:%S').hour\n",
    "    if hour <= 5:\n",
    "        return 'trans_latenight'\n",
    "    elif hour >5 and hour <= 11:\n",
    "        return 'trans_morning'\n",
    "    elif hour>11 and hour <= 17:\n",
    "        return 'trans_afternoon'\n",
    "    else:\n",
    "        return 'trans_evening'"
   ]
  },
  {
   "cell_type": "code",
   "execution_count": 148,
   "metadata": {},
   "outputs": [
    {
     "name": "stderr",
     "output_type": "stream",
     "text": [
      "/Users/yuweiwang/opt/anaconda3/lib/python3.7/site-packages/pandas/core/frame.py:2963: SettingWithCopyWarning: \n",
      "A value is trying to be set on a copy of a slice from a DataFrame.\n",
      "Try using .loc[row_indexer,col_indexer] = value instead\n",
      "\n",
      "See the caveats in the documentation: https://pandas.pydata.org/pandas-docs/stable/user_guide/indexing.html#returning-a-view-versus-a-copy\n",
      "  self[k1] = value[k2]\n"
     ]
    }
   ],
   "source": [
    "trans_time = []\n",
    "for i in range(len(sample_df)):\n",
    "    trans_date_trans_time = sample_df.iloc[i]['trans_date_trans_time']\n",
    "    trans_time.append(convert_time(trans_date_trans_time))\n",
    "    \n",
    "sample_df[['trans_latenight','trans_afternoon','trans_evening', 'trans_morning']] = pd.get_dummies(trans_time)[['trans_latenight','trans_afternoon','trans_evening', 'trans_morning']]"
   ]
  },
  {
   "cell_type": "markdown",
   "metadata": {},
   "source": [
    "### 2.5 Number of transaction within a day and an hour"
   ]
  },
  {
   "cell_type": "code",
   "execution_count": 198,
   "metadata": {},
   "outputs": [],
   "source": [
    "def num_trans(given_time, card, time_range):\n",
    "    # Get all transaction times of this card\n",
    "    count = 0\n",
    "    hist = list(sample_df[sample_df.cc_num==card]['trans_date_trans_time'])\n",
    "    given_time = datetime.datetime.strptime(given_time, '%Y-%m-%d %H:%M:%S')\n",
    "    \n",
    "    if time_range == 'day':\n",
    "        time_gap = 86400 # number of seconds in a day\n",
    "    if time_range == 'hour':\n",
    "        time_gap = 3600 # number of seconds in an hour\n",
    "        \n",
    "    for temp_time in hist:\n",
    "        temp_time = datetime.datetime.strptime(temp_time, '%Y-%m-%d %H:%M:%S')\n",
    "        if (temp_time < given_time) and ((given_time-temp_time).days < 1) and ((given_time-temp_time).seconds < time_gap):\n",
    "            count += 1\n",
    "            \n",
    "    return count"
   ]
  },
  {
   "cell_type": "code",
   "execution_count": 200,
   "metadata": {},
   "outputs": [
    {
     "data": {
      "text/plain": [
       "0"
      ]
     },
     "execution_count": 200,
     "metadata": {},
     "output_type": "execute_result"
    }
   ],
   "source": [
    "cardTry = 630423337322\n",
    "num_trans('2019-01-01 22:32:43', cardTry, 'hour')"
   ]
  },
  {
   "cell_type": "code",
   "execution_count": 202,
   "metadata": {},
   "outputs": [
    {
     "name": "stderr",
     "output_type": "stream",
     "text": [
      "/Users/yuweiwang/opt/anaconda3/lib/python3.7/site-packages/ipykernel_launcher.py:11: SettingWithCopyWarning: \n",
      "A value is trying to be set on a copy of a slice from a DataFrame.\n",
      "Try using .loc[row_indexer,col_indexer] = value instead\n",
      "\n",
      "See the caveats in the documentation: https://pandas.pydata.org/pandas-docs/stable/user_guide/indexing.html#returning-a-view-versus-a-copy\n",
      "  # This is added back by InteractiveShellApp.init_path()\n",
      "/Users/yuweiwang/opt/anaconda3/lib/python3.7/site-packages/ipykernel_launcher.py:12: SettingWithCopyWarning: \n",
      "A value is trying to be set on a copy of a slice from a DataFrame.\n",
      "Try using .loc[row_indexer,col_indexer] = value instead\n",
      "\n",
      "See the caveats in the documentation: https://pandas.pydata.org/pandas-docs/stable/user_guide/indexing.html#returning-a-view-versus-a-copy\n",
      "  if sys.path[0] == '':\n"
     ]
    }
   ],
   "source": [
    "trans_last24hr = []\n",
    "trans_last1hr = []\n",
    "\n",
    "for i in range(len(sample_df)):\n",
    "    given_time = sample_df.iloc[i]['trans_date_trans_time']\n",
    "    card = sample_df.iloc[i]['cc_num']\n",
    "    \n",
    "    trans_last24hr.append(num_trans(given_time, card, 'day'))\n",
    "    trans_last1hr.append(num_trans(given_time, card, 'hour'))\n",
    "    \n",
    "sample_df['trans_last24hr'] = trans_last24hr\n",
    "sample_df['trans_last1hr'] = trans_last1hr"
   ]
  },
  {
   "cell_type": "code",
   "execution_count": 205,
   "metadata": {},
   "outputs": [],
   "source": [
    "#sample_df.to_csv(\"sample_done.csv\")"
   ]
  },
  {
   "cell_type": "code",
   "execution_count": null,
   "metadata": {},
   "outputs": [],
   "source": []
  }
 ],
 "metadata": {
  "kernelspec": {
   "display_name": "Python 3",
   "language": "python",
   "name": "python3"
  },
  "language_info": {
   "codemirror_mode": {
    "name": "ipython",
    "version": 3
   },
   "file_extension": ".py",
   "mimetype": "text/x-python",
   "name": "python",
   "nbconvert_exporter": "python",
   "pygments_lexer": "ipython3",
   "version": "3.7.6"
  }
 },
 "nbformat": 4,
 "nbformat_minor": 4
}
